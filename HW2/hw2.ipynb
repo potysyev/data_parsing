{
 "cells": [
  {
   "cell_type": "markdown",
   "source": [
    "Написать приложение и функцию, которые собирают основные новости с сайта на выбор dzen.ru, lenta.ru, mail.ru . Для парсинга использовать XPath\n",
    "Структура данных должна содержать:\n",
    "* название источника\n",
    "* наименование новости\n",
    "* ссылку на новость\n",
    "* дата публикации\n",
    "минимум один сайт максимум все"
   ],
   "metadata": {
    "collapsed": false
   }
  },
  {
   "cell_type": "code",
   "execution_count": 27,
   "metadata": {
    "collapsed": true
   },
   "outputs": [
    {
     "ename": "ImportError",
     "evalue": "dlopen(/Users/victorpotysyev/PycharmProjects/data_parsing/venv/lib/python3.9/site-packages/lxml/etree.cpython-39-darwin.so, 0x0002): symbol not found in flat namespace '_exsltDateXpathCtxtRegister'",
     "output_type": "error",
     "traceback": [
      "\u001B[0;31m---------------------------------------------------------------------------\u001B[0m",
      "\u001B[0;31mImportError\u001B[0m                               Traceback (most recent call last)",
      "Cell \u001B[0;32mIn[27], line 2\u001B[0m\n\u001B[1;32m      1\u001B[0m \u001B[38;5;28;01mfrom\u001B[39;00m \u001B[38;5;21;01mpprint\u001B[39;00m \u001B[38;5;28;01mimport\u001B[39;00m pprint\n\u001B[0;32m----> 2\u001B[0m \u001B[38;5;28;01mfrom\u001B[39;00m \u001B[38;5;21;01mlxml\u001B[39;00m \u001B[38;5;28;01mimport\u001B[39;00m html\n\u001B[1;32m      3\u001B[0m \u001B[38;5;28;01mimport\u001B[39;00m \u001B[38;5;21;01mrequests\u001B[39;00m\n\u001B[1;32m      5\u001B[0m rqst \u001B[38;5;241m=\u001B[39m requests\u001B[38;5;241m.\u001B[39mget(\u001B[38;5;124m'\u001B[39m\u001B[38;5;124mhttps://www.lenta.ru/\u001B[39m\u001B[38;5;124m'\u001B[39m)\n",
      "File \u001B[0;32m~/PycharmProjects/data_parsing/venv/lib/python3.9/site-packages/lxml/html/__init__.py:53\u001B[0m\n\u001B[1;32m     50\u001B[0m \u001B[38;5;28;01mexcept\u001B[39;00m \u001B[38;5;167;01mImportError\u001B[39;00m:\n\u001B[1;32m     51\u001B[0m     \u001B[38;5;28;01mfrom\u001B[39;00m \u001B[38;5;21;01mcollections\u001B[39;00m \u001B[38;5;28;01mimport\u001B[39;00m MutableMapping, MutableSet\n\u001B[0;32m---> 53\u001B[0m \u001B[38;5;28;01mfrom\u001B[39;00m \u001B[38;5;21;01m.\u001B[39;00m\u001B[38;5;21;01m.\u001B[39;00m \u001B[38;5;28;01mimport\u001B[39;00m etree\n\u001B[1;32m     54\u001B[0m \u001B[38;5;28;01mfrom\u001B[39;00m \u001B[38;5;21;01m.\u001B[39;00m \u001B[38;5;28;01mimport\u001B[39;00m defs\n\u001B[1;32m     55\u001B[0m \u001B[38;5;28;01mfrom\u001B[39;00m \u001B[38;5;21;01m.\u001B[39;00m\u001B[38;5;21;01m_setmixin\u001B[39;00m \u001B[38;5;28;01mimport\u001B[39;00m SetMixin\n",
      "\u001B[0;31mImportError\u001B[0m: dlopen(/Users/victorpotysyev/PycharmProjects/data_parsing/venv/lib/python3.9/site-packages/lxml/etree.cpython-39-darwin.so, 0x0002): symbol not found in flat namespace '_exsltDateXpathCtxtRegister'"
     ]
    }
   ],
   "source": [
    "from pprint import pprint\n",
    "from lxml import html\n",
    "import requests"
   ]
  },
  {
   "cell_type": "code",
   "execution_count": 21,
   "outputs": [],
   "source": [
    "def get_lenta_news():\n",
    "    main_link = 'https://lenta.ru/'\n",
    "    response = requests.get(main_link, headers= headers)\n",
    "    root = html.fromstring(response.text)\n",
    "\n",
    "    # Get all news links\n",
    "    links = root.xpath(\"//a[contains(@href, '/news/')]/@href\") # list of news links on the topic\n",
    "    links = [main_link + x for x in links if re.search('\\/\\d{4}\\/\\d{2}\\/\\d{2}\\/', x)] # Rid off not news links and add main part\n",
    "    print(links)\n",
    "    info=[]\n",
    "\n",
    "    for link in links[0:5]:\n",
    "      response_link = requests.get(link, headers= headers)\n",
    "      root_link = html.fromstring(response_link.text)\n",
    "\n",
    "      name = root_link.xpath(\"//h1[contains(@class, 'topic-body__title')]//text()\")[0] # Name of the article\n",
    "      date = root_link.xpath(\"..//a[contains(@class, 'topic-header__time')]/text()\") # News date\n",
    "      author = root_link.xpath(\"..//a[contains(@class, 'topic-authors__author')]/text()\") # author\n",
    "\n",
    "\n",
    "\n",
    "      info.append({'link':link, 'title':name, 'date':date, 'author':author})\n",
    "    return info"
   ],
   "metadata": {
    "collapsed": false
   }
  },
  {
   "cell_type": "code",
   "execution_count": 9,
   "outputs": [],
   "source": [
    "print(get_lenta_news())"
   ],
   "metadata": {
    "collapsed": false
   }
  }
 ],
 "metadata": {
  "kernelspec": {
   "display_name": "Python 3",
   "language": "python",
   "name": "python3"
  },
  "language_info": {
   "codemirror_mode": {
    "name": "ipython",
    "version": 2
   },
   "file_extension": ".py",
   "mimetype": "text/x-python",
   "name": "python",
   "nbconvert_exporter": "python",
   "pygments_lexer": "ipython2",
   "version": "2.7.6"
  }
 },
 "nbformat": 4,
 "nbformat_minor": 0
}
