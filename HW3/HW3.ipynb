{
 "cells": [
  {
   "cell_type": "markdown",
   "source": [
    "Вариант 1\n",
    "Необходимо собрать информацию о вакансиях на вводимую должность (используем input или через аргументы получаем должность) с сайтов HH(обязательно) и/или Superjob(по желанию). Приложение должно анализировать несколько страниц сайта (также вводим через input или аргументы). Получившийся список должен содержать в себе минимум:\n",
    "Наименование вакансии.\n",
    "Предлагаемую зарплату (разносим в три поля: минимальная и максимальная и валюта. цифры преобразуем к цифрам).\n",
    "Ссылку на саму вакансию.\n",
    "Сайт, откуда собрана вакансия.\n",
    "По желанию можно добавить ещё параметры вакансии (например, работодателя и расположение). Структура должна быть одинаковая для вакансий с обоих сайтов. Общий результат можно вывести с помощью dataFrame через pandas. Сохраните в json либо csv."
   ],
   "metadata": {
    "collapsed": false
   }
  },
  {
   "cell_type": "code",
   "execution_count": 44,
   "metadata": {
    "collapsed": true
   },
   "outputs": [
    {
     "name": "stdout",
     "output_type": "stream",
     "text": [
      "done\n"
     ]
    }
   ],
   "source": [
    "import json\n",
    "import requests\n",
    "from bs4 import BeautifulSoup as bs\n",
    "\n",
    "#load job vacancy data from hh.ru\n",
    "def load_hh(vacancy):\n",
    "    vacancy = vacancy.replace(' ', '+')\n",
    "    url = 'https://hh.ru/search/vacancy?text=' + vacancy\n",
    "    headers = {'User-Agent': 'Mozilla/5.0 (Windows NT 10.0; Win64; x64) AppleWebKit/537.36 (KHTML, like Gecko) Chrome/87.0.4280.88 Safari/537.36'}\n",
    "    response = requests.get(url, headers=headers)\n",
    "    soup = bs(response.text, 'lxml')\n",
    "\n",
    "    vacancy_items = soup.find_all('div', {'class': 'vacancy-serp-item-body'})\n",
    "    vacancy_data = []\n",
    "\n",
    "    for item in vacancy_items:\n",
    "        vacancy_name = item.find('a', {'class': 'serp-item__title'}).getText()\n",
    "        vacancy_link = item.find('a', {'class': 'serp-item__title'})['href']\n",
    "        vacancy_salary = item.find('span', {'class': 'bloko-header-section-3'})\n",
    "        if vacancy_salary is not None:\n",
    "            vacancy_salary_currency = vacancy_salary.getText().split(\" \")[-1]\n",
    "            vacancy_salary = vacancy_salary.getText().replace('\\xa0', '').replace('\\u202f', '').replace(' ', '')\n",
    "            if vacancy_salary.find('от') != -1:\n",
    "                vacancy_salary_min = int(vacancy_salary.replace('от', '').replace(vacancy_salary_currency, ''))\n",
    "                vacancy_salary_max = None\n",
    "            elif vacancy_salary.find('до') != -1:\n",
    "                vacancy_salary_min = None\n",
    "                vacancy_salary_max = int(vacancy_salary.replace('до', '').replace(vacancy_salary_currency, ''))\n",
    "            else:\n",
    "                vacancy_salary_min = int(vacancy_salary.split('–')[0])\n",
    "                vacancy_salary_max = int(vacancy_salary.split('–')[1].replace(vacancy_salary_currency, ''))\n",
    "        else:\n",
    "            vacancy_salary_min = None\n",
    "            vacancy_salary_max = None\n",
    "            vacancy_salary_currency = None\n",
    "        vacancy_data.append({\n",
    "            'name': vacancy_name,\n",
    "            'link': vacancy_link,\n",
    "            'salary_min': vacancy_salary_min,\n",
    "            'salary_max': vacancy_salary_max,\n",
    "            'currency': vacancy_salary_currency,\n",
    "            'source': 'hh.ru'\n",
    "        })\n",
    "    return vacancy_data\n",
    "\n",
    "vacancy = input('Введите название вакансии: ')\n",
    "with open(vacancy +'_hh.json', 'w') as file:\n",
    "    json.dump(load_hh(vacancy), file, ensure_ascii=False)\n",
    "print(\"done\")"
   ]
  },
  {
   "cell_type": "code",
   "execution_count": null,
   "outputs": [],
   "source": [],
   "metadata": {
    "collapsed": false
   }
  }
 ],
 "metadata": {
  "kernelspec": {
   "display_name": "Python 3",
   "language": "python",
   "name": "python3"
  },
  "language_info": {
   "codemirror_mode": {
    "name": "ipython",
    "version": 2
   },
   "file_extension": ".py",
   "mimetype": "text/x-python",
   "name": "python",
   "nbconvert_exporter": "python",
   "pygments_lexer": "ipython2",
   "version": "2.7.6"
  }
 },
 "nbformat": 4,
 "nbformat_minor": 0
}
