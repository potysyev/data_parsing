{
 "cells": [
  {
   "cell_type": "code",
   "execution_count": 27,
   "metadata": {
    "collapsed": true
   },
   "outputs": [],
   "source": [
    "import requests\n",
    "import json\n",
    "from pprint import pprint\n"
   ]
  },
  {
   "cell_type": "code",
   "execution_count": 28,
   "outputs": [],
   "source": [
    "# 1. Get the data from the API\n",
    "url = 'https://api.github.com/users/potysyev/repos'\n",
    "response = requests.get(url)\n",
    "data = response.json()\n",
    "\n",
    "projects_list = [items['name'] for items in data]\n",
    "\n",
    "with open('projects_list.json', 'w') as f:\n",
    "    json.dump(projects_list, f)\n"
   ],
   "metadata": {
    "collapsed": false
   }
  },
  {
   "cell_type": "code",
   "execution_count": 44,
   "outputs": [
    {
     "name": "stdout",
     "output_type": "stream",
     "text": [
      "{'error': {'error_code': 3, 'error_msg': 'Unknown method passed', 'request_params': [{'key': 'v', 'value': '5.131'}, {'key': 'method', 'value': 'groups'}, {'key': 'oauth', 'value': '1'}]}}\n"
     ]
    }
   ],
   "source": [
    "#не получается получить список групп\n",
    "\n",
    "token = \"vk1.a.ACr9SUaa4-LaiWUuDDtRLCLR6H48Rcpa3ek5qHhcmutPaU7GxFfKxMhYVEngPjBgy_0WuQV7yxFGffURrVMEWCLSKZo8Aa4QNoywPArH4JEO5-XAm8h3NBis3ebOzqcSTj-Xxq6WPXUoDcptVnGaWk6_CIBLq9kRv-nxAfdRa4GjDkgeY0oAeHXJ9qtqKIyNddiUNe_WhXm8ofL37WY6WQ\"\n",
    "URL = 'https://api.vk.com/method/groups?v=5.131&access_token='\n",
    "\n",
    "data = requests.get(URL+token).json()\n",
    "print(data)"
   ],
   "metadata": {
    "collapsed": false
   }
  },
  {
   "cell_type": "code",
   "execution_count": null,
   "outputs": [],
   "source": [],
   "metadata": {
    "collapsed": false
   }
  }
 ],
 "metadata": {
  "kernelspec": {
   "display_name": "Python 3",
   "language": "python",
   "name": "python3"
  },
  "language_info": {
   "codemirror_mode": {
    "name": "ipython",
    "version": 2
   },
   "file_extension": ".py",
   "mimetype": "text/x-python",
   "name": "python",
   "nbconvert_exporter": "python",
   "pygments_lexer": "ipython2",
   "version": "2.7.6"
  }
 },
 "nbformat": 4,
 "nbformat_minor": 0
}
