{
 "cells": [
  {
   "cell_type": "markdown",
   "source": [],
   "metadata": {
    "collapsed": false
   }
  },
  {
   "cell_type": "markdown",
   "source": [
    "1. Развернуть у себя на компьютере/виртуальной машине/хостинге MongoDB и реализовать функцию, которая будет добавлять только новые вакансии/продукты в вашу базу.\n",
    "2. Написать функцию, которая производит поиск и выводит на экран вакансии с заработной платой больше введённой суммы (необходимо анализировать оба поля зарплаты). Для тех, кто выполнил задание с Росконтролем - напишите запрос для поиска продуктов с рейтингом не ниже введенного или качеством не ниже введенного (то есть цифра вводится одна, а запрос проверяет оба поля).\n"
   ],
   "metadata": {
    "collapsed": false
   }
  },
  {
   "cell_type": "code",
   "execution_count": 48,
   "outputs": [],
   "source": [
    "\n",
    "import requests\n",
    "from pymongo import MongoClient\n",
    "from bs4 import BeautifulSoup as bs\n",
    "\n",
    "client = MongoClient('mongodb://localhost:27017/')"
   ],
   "metadata": {
    "collapsed": false
   }
  },
  {
   "cell_type": "code",
   "execution_count": 49,
   "outputs": [],
   "source": [
    "#load job vacancy data from hh.ru\n",
    "def load_hh(vacancy):\n",
    "    vacancy = vacancy.replace(' ', '+')\n",
    "    url = 'https://hh.ru/search/vacancy?text=' + vacancy\n",
    "    headers = {'User-Agent': 'Mozilla/5.0 (Windows NT 10.0; Win64; x64) AppleWebKit/537.36 (KHTML, like Gecko) Chrome/87.0.4280.88 Safari/537.36'}\n",
    "    response = requests.get(url, headers=headers)\n",
    "    #soup = bs(response.text, 'lxml')\n",
    "    soup = bs(response.text, 'html.parser')\n",
    "    vacancy_items = soup.find_all('div', {'class': 'vacancy-serp-item-body'})\n",
    "    vacancy_data = []\n",
    "\n",
    "    for item in vacancy_items:\n",
    "        vacancy_name = item.find('a', {'class': 'serp-item__title'}).getText()\n",
    "        vacancy_link = item.find('a', {'class': 'serp-item__title'})['href']\n",
    "        vacancy_salary = item.find('span', {'class': 'bloko-header-section-3'})\n",
    "        if vacancy_salary is not None:\n",
    "            vacancy_salary_currency = vacancy_salary.getText().split(\" \")[-1]\n",
    "            vacancy_salary = vacancy_salary.getText().replace('\\xa0', '').replace('\\u202f', '').replace(' ', '')\n",
    "            if vacancy_salary.find('от') != -1:\n",
    "                vacancy_salary_min = int(vacancy_salary.replace('от', '').replace(vacancy_salary_currency, ''))\n",
    "                vacancy_salary_max = None\n",
    "            elif vacancy_salary.find('до') != -1:\n",
    "                vacancy_salary_min = None\n",
    "                vacancy_salary_max = int(vacancy_salary.replace('до', '').replace(vacancy_salary_currency, ''))\n",
    "            else:\n",
    "                vacancy_salary_min = int(vacancy_salary.split('–')[0])\n",
    "                vacancy_salary_max = int(vacancy_salary.split('–')[1].replace(vacancy_salary_currency, ''))\n",
    "        else:\n",
    "            vacancy_salary_min = None\n",
    "            vacancy_salary_max = None\n",
    "            vacancy_salary_currency = None\n",
    "        vacancy_data.append({\n",
    "            'name': vacancy_name,\n",
    "            'link': vacancy_link,\n",
    "            'salary_min': vacancy_salary_min,\n",
    "            'salary_max': vacancy_salary_max,\n",
    "            'currency': vacancy_salary_currency,\n",
    "            'source': 'hh.ru'\n",
    "        })\n",
    "    return vacancy_data\n",
    "\n"
   ],
   "metadata": {
    "collapsed": false
   }
  },
  {
   "cell_type": "code",
   "execution_count": 71,
   "outputs": [],
   "source": [
    "def dbupdate(data):\n",
    "    db = client.testdb\n",
    "    for item in data:\n",
    "        if len(list(db.vacancy.find({'name': item['name']}))) == 0:\n",
    "            db.vacancy.insert_one(item)\n",
    "            print(item['name']+\" added to db\")\n",
    "        else:\n",
    "            print(item['name']+\" already in db\")"
   ],
   "metadata": {
    "collapsed": false
   }
  },
  {
   "cell_type": "code",
   "execution_count": 73,
   "outputs": [
    {
     "name": "stdout",
     "output_type": "stream",
     "text": [
      "Программист Python Junior added to db\n",
      "Junior Data scientist (NLP) added to db\n",
      "ML-специалист (Junior) added to db\n",
      "Junior Python Developer added to db\n",
      "Разработчик Python Junior added to db\n",
      "ИТ-разработчик (уровень Junior) added to db\n",
      "Junior Python Developer already in db\n",
      "Junior Data Scientist (Стажер) added to db\n",
      "Программист Python (Junior) added to db\n",
      "Junior Python Backend Developer - разработчик Python added to db\n",
      "Junior Data Engineer added to db\n",
      "Программист С#, phyton (Junior) added to db\n",
      "Computer Vision Engineer (junior/intern) added to db\n",
      "Стажер-разработчик Python в Томске added to db\n",
      "Junior machine learning engineer added to db\n",
      "Data Scientist Junior/Junior+ added to db\n",
      "Программист Python/Data Scientist (junior / middle) added to db\n",
      "Junior/Middle Python Developer (Backend) - разработчик Питон added to db\n",
      "Младший разработчик ПО added to db\n",
      "Junior/Middle Backend-разработчик на Ruby added to db\n",
      "[{'_id': ObjectId('640710daea9b50885f65f7b4'), 'name': 'Геофизик/петрофизик', 'link': 'https://hh.ru/vacancy/77761655?from=vacancy_search_list&query=%D0%BF%D0%B5%D1%82%D1%80%D0%BE%D1%84%D0%B8%D0%B7%D0%B8%D0%BA', 'salary_min': None, 'salary_max': None, 'currency': None, 'source': 'hh.ru'}, {'_id': ObjectId('640710daea9b50885f65f7b5'), 'name': 'Петрофизик / Специалист по петрофизическому моделированию', 'link': 'https://hh.ru/vacancy/77432825?from=vacancy_search_list&query=%D0%BF%D0%B5%D1%82%D1%80%D0%BE%D1%84%D0%B8%D0%B7%D0%B8%D0%BA', 'salary_min': None, 'salary_max': None, 'currency': None, 'source': 'hh.ru'}, {'_id': ObjectId('640710daea9b50885f65f7b6'), 'name': 'Петрофизик', 'link': 'https://hh.ru/vacancy/76817461?from=vacancy_search_list&query=%D0%BF%D0%B5%D1%82%D1%80%D0%BE%D1%84%D0%B8%D0%B7%D0%B8%D0%BA', 'salary_min': None, 'salary_max': None, 'currency': None, 'source': 'hh.ru'}, {'_id': ObjectId('640710daea9b50885f65f7b7'), 'name': 'Ведущий специалист отдела интегрированного моделирования разработки месторождений', 'link': 'https://hh.ru/vacancy/76649714?from=vacancy_search_list&query=%D0%BF%D0%B5%D1%82%D1%80%D0%BE%D1%84%D0%B8%D0%B7%D0%B8%D0%BA', 'salary_min': None, 'salary_max': None, 'currency': None, 'source': 'hh.ru'}, {'_id': ObjectId('640710daea9b50885f65f7b8'), 'name': 'Главный специалист (Геолог 3Д)', 'link': 'https://hh.ru/vacancy/77519661?from=vacancy_search_list&query=%D0%BF%D0%B5%D1%82%D1%80%D0%BE%D1%84%D0%B8%D0%B7%D0%B8%D0%BA', 'salary_min': None, 'salary_max': None, 'currency': None, 'source': 'hh.ru'}, {'_id': ObjectId('640710daea9b50885f65f7b9'), 'name': 'Петрофизик / Специалист по петрофизическому моделированию', 'link': 'https://hh.ru/vacancy/76836829?from=vacancy_search_list&query=%D0%BF%D0%B5%D1%82%D1%80%D0%BE%D1%84%D0%B8%D0%B7%D0%B8%D0%BA', 'salary_min': None, 'salary_max': None, 'currency': None, 'source': 'hh.ru'}, {'_id': ObjectId('640710daea9b50885f65f7ba'), 'name': 'Петрофизик / Специалист по петрофизическому моделированию', 'link': 'https://hh.ru/vacancy/76836859?from=vacancy_search_list&query=%D0%BF%D0%B5%D1%82%D1%80%D0%BE%D1%84%D0%B8%D0%B7%D0%B8%D0%BA', 'salary_min': None, 'salary_max': None, 'currency': None, 'source': 'hh.ru'}, {'_id': ObjectId('640710daea9b50885f65f7bb'), 'name': 'Главный специалист по разработке нефтяных и газовых месторождений', 'link': 'https://hh.ru/vacancy/76547000?from=vacancy_search_list&query=%D0%BF%D0%B5%D1%82%D1%80%D0%BE%D1%84%D0%B8%D0%B7%D0%B8%D0%BA', 'salary_min': None, 'salary_max': None, 'currency': None, 'source': 'hh.ru'}, {'_id': ObjectId('640710daea9b50885f65f7bc'), 'name': 'Руководитель проекта по петрофизическому моделированию', 'link': 'https://hh.ru/vacancy/77432789?from=vacancy_search_list&query=%D0%BF%D0%B5%D1%82%D1%80%D0%BE%D1%84%D0%B8%D0%B7%D0%B8%D0%BA', 'salary_min': None, 'salary_max': None, 'currency': None, 'source': 'hh.ru'}, {'_id': ObjectId('640710daea9b50885f65f7bd'), 'name': 'Инженер 1 категории Группа методического сопровождения полевых сейсморазведочных работ', 'link': 'https://hh.ru/vacancy/73373857?from=vacancy_search_list&query=%D0%BF%D0%B5%D1%82%D1%80%D0%BE%D1%84%D0%B8%D0%B7%D0%B8%D0%BA', 'salary_min': 41900, 'salary_max': None, 'currency': 'руб.', 'source': 'hh.ru'}, {'_id': ObjectId('640710daea9b50885f65f7be'), 'name': 'Руководитель проекта по петрофизическому моделированию', 'link': 'https://hh.ru/vacancy/76837198?from=vacancy_search_list&query=%D0%BF%D0%B5%D1%82%D1%80%D0%BE%D1%84%D0%B8%D0%B7%D0%B8%D0%BA', 'salary_min': None, 'salary_max': None, 'currency': None, 'source': 'hh.ru'}, {'_id': ObjectId('640710daea9b50885f65f7bf'), 'name': 'Руководитель проекта по петрофизическому моделированию', 'link': 'https://hh.ru/vacancy/76837177?from=vacancy_search_list&query=%D0%BF%D0%B5%D1%82%D1%80%D0%BE%D1%84%D0%B8%D0%B7%D0%B8%D0%BA', 'salary_min': None, 'salary_max': None, 'currency': None, 'source': 'hh.ru'}, {'_id': ObjectId('640710daea9b50885f65f7c0'), 'name': 'Главный специалист по геологическому моделированию (Газпромнефть-НТЦ)', 'link': 'https://hh.ru/vacancy/72184149?from=vacancy_search_list&query=%D0%BF%D0%B5%D1%82%D1%80%D0%BE%D1%84%D0%B8%D0%B7%D0%B8%D0%BA', 'salary_min': None, 'salary_max': None, 'currency': None, 'source': 'hh.ru'}, {'_id': ObjectId('640710daea9b50885f65f7c1'), 'name': 'Эксперт по геологическому моделированию', 'link': 'https://hh.ru/vacancy/72017256?from=vacancy_search_list&query=%D0%BF%D0%B5%D1%82%D1%80%D0%BE%D1%84%D0%B8%D0%B7%D0%B8%D0%BA', 'salary_min': None, 'salary_max': None, 'currency': None, 'source': 'hh.ru'}, {'_id': ObjectId('640710daea9b50885f65f7c2'), 'name': 'Эксперт по геологии (3Д моделирование)', 'link': 'https://hh.ru/vacancy/72017396?from=vacancy_search_list&query=%D0%BF%D0%B5%D1%82%D1%80%D0%BE%D1%84%D0%B8%D0%B7%D0%B8%D0%BA', 'salary_min': None, 'salary_max': None, 'currency': None, 'source': 'hh.ru'}, {'_id': ObjectId('640710daea9b50885f65f7c3'), 'name': 'Эксперт по геологии (3Д моделирование)', 'link': 'https://hh.ru/vacancy/72017341?from=vacancy_search_list&query=%D0%BF%D0%B5%D1%82%D1%80%D0%BE%D1%84%D0%B8%D0%B7%D0%B8%D0%BA', 'salary_min': None, 'salary_max': None, 'currency': None, 'source': 'hh.ru'}, {'_id': ObjectId('640710daea9b50885f65f7c4'), 'name': 'Главный специалист по разработке', 'link': 'https://hh.ru/vacancy/77443657?from=vacancy_search_list&query=%D0%BF%D0%B5%D1%82%D1%80%D0%BE%D1%84%D0%B8%D0%B7%D0%B8%D0%BA', 'salary_min': None, 'salary_max': None, 'currency': None, 'source': 'hh.ru'}, {'_id': ObjectId('640710daea9b50885f65f7c5'), 'name': 'Главный специалист по геонавигации (ЯНАО)', 'link': 'https://hh.ru/vacancy/72235969?from=vacancy_search_list&query=%D0%BF%D0%B5%D1%82%D1%80%D0%BE%D1%84%D0%B8%D0%B7%D0%B8%D0%BA', 'salary_min': None, 'salary_max': None, 'currency': None, 'source': 'hh.ru'}, {'_id': ObjectId('640710daea9b50885f65f7c6'), 'name': 'Руководитель группы по гидродинамическому моделированию', 'link': 'https://hh.ru/vacancy/75740409?from=vacancy_search_list&query=%D0%BF%D0%B5%D1%82%D1%80%D0%BE%D1%84%D0%B8%D0%B7%D0%B8%D0%BA', 'salary_min': None, 'salary_max': None, 'currency': None, 'source': 'hh.ru'}, {'_id': ObjectId('640710daea9b50885f65f7c7'), 'name': 'Специалист по компьютерной рентгеновской микротомографии (томографии) (КТ) керна', 'link': 'https://hh.ru/vacancy/77016219?from=vacancy_search_list&query=%D0%BF%D0%B5%D1%82%D1%80%D0%BE%D1%84%D0%B8%D0%B7%D0%B8%D0%BA', 'salary_min': None, 'salary_max': None, 'currency': None, 'source': 'hh.ru'}, {'_id': ObjectId('64071106ea9b50885f65f7c8'), 'name': 'Геофизик/петрофизик', 'link': 'https://hh.ru/vacancy/77761655?from=vacancy_search_list&query=%D0%BF%D0%B5%D1%82%D1%80%D0%BE%D1%84%D0%B8%D0%B7%D0%B8%D0%BA', 'salary_min': None, 'salary_max': None, 'currency': None, 'source': 'hh.ru'}, {'_id': ObjectId('64071106ea9b50885f65f7c9'), 'name': 'Петрофизик / Специалист по петрофизическому моделированию', 'link': 'https://hh.ru/vacancy/77432825?from=vacancy_search_list&query=%D0%BF%D0%B5%D1%82%D1%80%D0%BE%D1%84%D0%B8%D0%B7%D0%B8%D0%BA', 'salary_min': None, 'salary_max': None, 'currency': None, 'source': 'hh.ru'}, {'_id': ObjectId('64071106ea9b50885f65f7ca'), 'name': 'Петрофизик', 'link': 'https://hh.ru/vacancy/76817461?from=vacancy_search_list&query=%D0%BF%D0%B5%D1%82%D1%80%D0%BE%D1%84%D0%B8%D0%B7%D0%B8%D0%BA', 'salary_min': None, 'salary_max': None, 'currency': None, 'source': 'hh.ru'}, {'_id': ObjectId('64071106ea9b50885f65f7cb'), 'name': 'Ведущий специалист отдела интегрированного моделирования разработки месторождений', 'link': 'https://hh.ru/vacancy/76649714?from=vacancy_search_list&query=%D0%BF%D0%B5%D1%82%D1%80%D0%BE%D1%84%D0%B8%D0%B7%D0%B8%D0%BA', 'salary_min': None, 'salary_max': None, 'currency': None, 'source': 'hh.ru'}, {'_id': ObjectId('64071106ea9b50885f65f7cc'), 'name': 'Главный специалист (Геолог 3Д)', 'link': 'https://hh.ru/vacancy/77519661?from=vacancy_search_list&query=%D0%BF%D0%B5%D1%82%D1%80%D0%BE%D1%84%D0%B8%D0%B7%D0%B8%D0%BA', 'salary_min': None, 'salary_max': None, 'currency': None, 'source': 'hh.ru'}, {'_id': ObjectId('64071106ea9b50885f65f7cd'), 'name': 'Петрофизик / Специалист по петрофизическому моделированию', 'link': 'https://hh.ru/vacancy/76836829?from=vacancy_search_list&query=%D0%BF%D0%B5%D1%82%D1%80%D0%BE%D1%84%D0%B8%D0%B7%D0%B8%D0%BA', 'salary_min': None, 'salary_max': None, 'currency': None, 'source': 'hh.ru'}, {'_id': ObjectId('64071106ea9b50885f65f7ce'), 'name': 'Петрофизик / Специалист по петрофизическому моделированию', 'link': 'https://hh.ru/vacancy/76836859?from=vacancy_search_list&query=%D0%BF%D0%B5%D1%82%D1%80%D0%BE%D1%84%D0%B8%D0%B7%D0%B8%D0%BA', 'salary_min': None, 'salary_max': None, 'currency': None, 'source': 'hh.ru'}, {'_id': ObjectId('64071106ea9b50885f65f7cf'), 'name': 'Главный специалист по разработке нефтяных и газовых месторождений', 'link': 'https://hh.ru/vacancy/76547000?from=vacancy_search_list&query=%D0%BF%D0%B5%D1%82%D1%80%D0%BE%D1%84%D0%B8%D0%B7%D0%B8%D0%BA', 'salary_min': None, 'salary_max': None, 'currency': None, 'source': 'hh.ru'}, {'_id': ObjectId('64071106ea9b50885f65f7d0'), 'name': 'Руководитель проекта по петрофизическому моделированию', 'link': 'https://hh.ru/vacancy/77432789?from=vacancy_search_list&query=%D0%BF%D0%B5%D1%82%D1%80%D0%BE%D1%84%D0%B8%D0%B7%D0%B8%D0%BA', 'salary_min': None, 'salary_max': None, 'currency': None, 'source': 'hh.ru'}, {'_id': ObjectId('64071106ea9b50885f65f7d1'), 'name': 'Инженер 1 категории Группа методического сопровождения полевых сейсморазведочных работ', 'link': 'https://hh.ru/vacancy/73373857?from=vacancy_search_list&query=%D0%BF%D0%B5%D1%82%D1%80%D0%BE%D1%84%D0%B8%D0%B7%D0%B8%D0%BA', 'salary_min': 41900, 'salary_max': None, 'currency': 'руб.', 'source': 'hh.ru'}, {'_id': ObjectId('64071106ea9b50885f65f7d2'), 'name': 'Руководитель проекта по петрофизическому моделированию', 'link': 'https://hh.ru/vacancy/76837198?from=vacancy_search_list&query=%D0%BF%D0%B5%D1%82%D1%80%D0%BE%D1%84%D0%B8%D0%B7%D0%B8%D0%BA', 'salary_min': None, 'salary_max': None, 'currency': None, 'source': 'hh.ru'}, {'_id': ObjectId('64071106ea9b50885f65f7d3'), 'name': 'Руководитель проекта по петрофизическому моделированию', 'link': 'https://hh.ru/vacancy/76837177?from=vacancy_search_list&query=%D0%BF%D0%B5%D1%82%D1%80%D0%BE%D1%84%D0%B8%D0%B7%D0%B8%D0%BA', 'salary_min': None, 'salary_max': None, 'currency': None, 'source': 'hh.ru'}, {'_id': ObjectId('64071106ea9b50885f65f7d4'), 'name': 'Главный специалист по геологическому моделированию (Газпромнефть-НТЦ)', 'link': 'https://hh.ru/vacancy/72184149?from=vacancy_search_list&query=%D0%BF%D0%B5%D1%82%D1%80%D0%BE%D1%84%D0%B8%D0%B7%D0%B8%D0%BA', 'salary_min': None, 'salary_max': None, 'currency': None, 'source': 'hh.ru'}, {'_id': ObjectId('64071106ea9b50885f65f7d5'), 'name': 'Эксперт по геологическому моделированию', 'link': 'https://hh.ru/vacancy/72017256?from=vacancy_search_list&query=%D0%BF%D0%B5%D1%82%D1%80%D0%BE%D1%84%D0%B8%D0%B7%D0%B8%D0%BA', 'salary_min': None, 'salary_max': None, 'currency': None, 'source': 'hh.ru'}, {'_id': ObjectId('64071106ea9b50885f65f7d6'), 'name': 'Эксперт по геологии (3Д моделирование)', 'link': 'https://hh.ru/vacancy/72017396?from=vacancy_search_list&query=%D0%BF%D0%B5%D1%82%D1%80%D0%BE%D1%84%D0%B8%D0%B7%D0%B8%D0%BA', 'salary_min': None, 'salary_max': None, 'currency': None, 'source': 'hh.ru'}, {'_id': ObjectId('64071106ea9b50885f65f7d7'), 'name': 'Эксперт по геологии (3Д моделирование)', 'link': 'https://hh.ru/vacancy/72017341?from=vacancy_search_list&query=%D0%BF%D0%B5%D1%82%D1%80%D0%BE%D1%84%D0%B8%D0%B7%D0%B8%D0%BA', 'salary_min': None, 'salary_max': None, 'currency': None, 'source': 'hh.ru'}, {'_id': ObjectId('64071106ea9b50885f65f7d8'), 'name': 'Главный специалист по разработке', 'link': 'https://hh.ru/vacancy/77443657?from=vacancy_search_list&query=%D0%BF%D0%B5%D1%82%D1%80%D0%BE%D1%84%D0%B8%D0%B7%D0%B8%D0%BA', 'salary_min': None, 'salary_max': None, 'currency': None, 'source': 'hh.ru'}, {'_id': ObjectId('64071106ea9b50885f65f7d9'), 'name': 'Главный специалист по геонавигации (ЯНАО)', 'link': 'https://hh.ru/vacancy/72235969?from=vacancy_search_list&query=%D0%BF%D0%B5%D1%82%D1%80%D0%BE%D1%84%D0%B8%D0%B7%D0%B8%D0%BA', 'salary_min': None, 'salary_max': None, 'currency': None, 'source': 'hh.ru'}, {'_id': ObjectId('64071106ea9b50885f65f7da'), 'name': 'Руководитель группы по гидродинамическому моделированию', 'link': 'https://hh.ru/vacancy/75740409?from=vacancy_search_list&query=%D0%BF%D0%B5%D1%82%D1%80%D0%BE%D1%84%D0%B8%D0%B7%D0%B8%D0%BA', 'salary_min': None, 'salary_max': None, 'currency': None, 'source': 'hh.ru'}, {'_id': ObjectId('64071106ea9b50885f65f7db'), 'name': 'Специалист по компьютерной рентгеновской микротомографии (томографии) (КТ) керна', 'link': 'https://hh.ru/vacancy/77016219?from=vacancy_search_list&query=%D0%BF%D0%B5%D1%82%D1%80%D0%BE%D1%84%D0%B8%D0%B7%D0%B8%D0%BA', 'salary_min': None, 'salary_max': None, 'currency': None, 'source': 'hh.ru'}, {'_id': ObjectId('6407115dea9b50885f65f7dc'), 'name': 'Геофизик/петрофизик', 'link': 'https://hh.ru/vacancy/77761655?from=vacancy_search_list&query=%D0%BF%D0%B5%D1%82%D1%80%D0%BE%D1%84%D0%B8%D0%B7%D0%B8%D0%BA', 'salary_min': None, 'salary_max': None, 'currency': None, 'source': 'hh.ru'}, {'_id': ObjectId('6407115dea9b50885f65f7dd'), 'name': 'Петрофизик', 'link': 'https://hh.ru/vacancy/76817461?from=vacancy_search_list&query=%D0%BF%D0%B5%D1%82%D1%80%D0%BE%D1%84%D0%B8%D0%B7%D0%B8%D0%BA', 'salary_min': None, 'salary_max': None, 'currency': None, 'source': 'hh.ru'}, {'_id': ObjectId('6407115dea9b50885f65f7de'), 'name': 'Ведущий специалист отдела интегрированного моделирования разработки месторождений', 'link': 'https://hh.ru/vacancy/76649714?from=vacancy_search_list&query=%D0%BF%D0%B5%D1%82%D1%80%D0%BE%D1%84%D0%B8%D0%B7%D0%B8%D0%BA', 'salary_min': None, 'salary_max': None, 'currency': None, 'source': 'hh.ru'}, {'_id': ObjectId('6407115dea9b50885f65f7df'), 'name': 'Петрофизик / Специалист по петрофизическому моделированию', 'link': 'https://hh.ru/vacancy/77432825?from=vacancy_search_list&query=%D0%BF%D0%B5%D1%82%D1%80%D0%BE%D1%84%D0%B8%D0%B7%D0%B8%D0%BA', 'salary_min': None, 'salary_max': None, 'currency': None, 'source': 'hh.ru'}, {'_id': ObjectId('6407115dea9b50885f65f7e0'), 'name': 'Руководитель проекта по петрофизическому моделированию', 'link': 'https://hh.ru/vacancy/77432789?from=vacancy_search_list&query=%D0%BF%D0%B5%D1%82%D1%80%D0%BE%D1%84%D0%B8%D0%B7%D0%B8%D0%BA', 'salary_min': None, 'salary_max': None, 'currency': None, 'source': 'hh.ru'}, {'_id': ObjectId('6407115dea9b50885f65f7e1'), 'name': 'Петрофизик / Специалист по петрофизическому моделированию', 'link': 'https://hh.ru/vacancy/76836849?from=vacancy_search_list&query=%D0%BF%D0%B5%D1%82%D1%80%D0%BE%D1%84%D0%B8%D0%B7%D0%B8%D0%BA', 'salary_min': None, 'salary_max': None, 'currency': None, 'source': 'hh.ru'}, {'_id': ObjectId('6407115dea9b50885f65f7e2'), 'name': 'Петрофизик / Специалист по петрофизическому моделированию', 'link': 'https://hh.ru/vacancy/76836859?from=vacancy_search_list&query=%D0%BF%D0%B5%D1%82%D1%80%D0%BE%D1%84%D0%B8%D0%B7%D0%B8%D0%BA', 'salary_min': None, 'salary_max': None, 'currency': None, 'source': 'hh.ru'}, {'_id': ObjectId('6407115dea9b50885f65f7e3'), 'name': 'Главный специалист (Геолог 3Д)', 'link': 'https://hh.ru/vacancy/77519661?from=vacancy_search_list&query=%D0%BF%D0%B5%D1%82%D1%80%D0%BE%D1%84%D0%B8%D0%B7%D0%B8%D0%BA', 'salary_min': None, 'salary_max': None, 'currency': None, 'source': 'hh.ru'}, {'_id': ObjectId('6407115dea9b50885f65f7e4'), 'name': 'Инженер 1 категории Группа методического сопровождения полевых сейсморазведочных работ', 'link': 'https://hh.ru/vacancy/73373857?from=vacancy_search_list&query=%D0%BF%D0%B5%D1%82%D1%80%D0%BE%D1%84%D0%B8%D0%B7%D0%B8%D0%BA', 'salary_min': 41900, 'salary_max': None, 'currency': 'руб.', 'source': 'hh.ru'}, {'_id': ObjectId('6407115dea9b50885f65f7e5'), 'name': 'Руководитель проекта по петрофизическому моделированию', 'link': 'https://hh.ru/vacancy/76837198?from=vacancy_search_list&query=%D0%BF%D0%B5%D1%82%D1%80%D0%BE%D1%84%D0%B8%D0%B7%D0%B8%D0%BA', 'salary_min': None, 'salary_max': None, 'currency': None, 'source': 'hh.ru'}, {'_id': ObjectId('6407115dea9b50885f65f7e6'), 'name': 'Руководитель проекта по петрофизическому моделированию', 'link': 'https://hh.ru/vacancy/76837222?from=vacancy_search_list&query=%D0%BF%D0%B5%D1%82%D1%80%D0%BE%D1%84%D0%B8%D0%B7%D0%B8%D0%BA', 'salary_min': None, 'salary_max': None, 'currency': None, 'source': 'hh.ru'}, {'_id': ObjectId('6407115dea9b50885f65f7e7'), 'name': 'Эксперт по геологическому моделированию', 'link': 'https://hh.ru/vacancy/72017256?from=vacancy_search_list&query=%D0%BF%D0%B5%D1%82%D1%80%D0%BE%D1%84%D0%B8%D0%B7%D0%B8%D0%BA', 'salary_min': None, 'salary_max': None, 'currency': None, 'source': 'hh.ru'}, {'_id': ObjectId('6407115dea9b50885f65f7e8'), 'name': 'Главный специалист по геологическому моделированию (Газпромнефть-НТЦ)', 'link': 'https://hh.ru/vacancy/72184149?from=vacancy_search_list&query=%D0%BF%D0%B5%D1%82%D1%80%D0%BE%D1%84%D0%B8%D0%B7%D0%B8%D0%BA', 'salary_min': None, 'salary_max': None, 'currency': None, 'source': 'hh.ru'}, {'_id': ObjectId('6407115dea9b50885f65f7e9'), 'name': 'Эксперт по геологии (3Д моделирование)', 'link': 'https://hh.ru/vacancy/72017341?from=vacancy_search_list&query=%D0%BF%D0%B5%D1%82%D1%80%D0%BE%D1%84%D0%B8%D0%B7%D0%B8%D0%BA', 'salary_min': None, 'salary_max': None, 'currency': None, 'source': 'hh.ru'}, {'_id': ObjectId('6407115dea9b50885f65f7ea'), 'name': 'Эксперт по геологии (3Д моделирование)', 'link': 'https://hh.ru/vacancy/72017396?from=vacancy_search_list&query=%D0%BF%D0%B5%D1%82%D1%80%D0%BE%D1%84%D0%B8%D0%B7%D0%B8%D0%BA', 'salary_min': None, 'salary_max': None, 'currency': None, 'source': 'hh.ru'}, {'_id': ObjectId('6407115dea9b50885f65f7eb'), 'name': 'Главный специалист по разработке нефтяных и газовых месторождений', 'link': 'https://hh.ru/vacancy/76547000?from=vacancy_search_list&query=%D0%BF%D0%B5%D1%82%D1%80%D0%BE%D1%84%D0%B8%D0%B7%D0%B8%D0%BA', 'salary_min': None, 'salary_max': None, 'currency': None, 'source': 'hh.ru'}, {'_id': ObjectId('6407115dea9b50885f65f7ec'), 'name': 'Руководитель группы по гидродинамическому моделированию', 'link': 'https://hh.ru/vacancy/75740409?from=vacancy_search_list&query=%D0%BF%D0%B5%D1%82%D1%80%D0%BE%D1%84%D0%B8%D0%B7%D0%B8%D0%BA', 'salary_min': None, 'salary_max': None, 'currency': None, 'source': 'hh.ru'}, {'_id': ObjectId('6407115dea9b50885f65f7ed'), 'name': 'Главный специалист по геонавигации (ЯНАО)', 'link': 'https://hh.ru/vacancy/72235969?from=vacancy_search_list&query=%D0%BF%D0%B5%D1%82%D1%80%D0%BE%D1%84%D0%B8%D0%B7%D0%B8%D0%BA', 'salary_min': None, 'salary_max': None, 'currency': None, 'source': 'hh.ru'}, {'_id': ObjectId('6407115dea9b50885f65f7ee'), 'name': 'Начальник отдела лицензирования недр', 'link': 'https://hh.ru/vacancy/76925683?from=vacancy_search_list&query=%D0%BF%D0%B5%D1%82%D1%80%D0%BE%D1%84%D0%B8%D0%B7%D0%B8%D0%BA', 'salary_min': 150000, 'salary_max': 200000, 'currency': 'руб.', 'source': 'hh.ru'}, {'_id': ObjectId('6407115dea9b50885f65f7ef'), 'name': 'Специалист по компьютерной рентгеновской микротомографии (томографии) (КТ) керна', 'link': 'https://hh.ru/vacancy/77016219?from=vacancy_search_list&query=%D0%BF%D0%B5%D1%82%D1%80%D0%BE%D1%84%D0%B8%D0%B7%D0%B8%D0%BA', 'salary_min': None, 'salary_max': None, 'currency': None, 'source': 'hh.ru'}, {'_id': ObjectId('640711c8ea9b50885f65f7f0'), 'name': 'Программист Python Junior', 'link': 'https://hh.ru/vacancy/77146976?from=vacancy_search_list&query=python+junior', 'salary_min': None, 'salary_max': None, 'currency': None, 'source': 'hh.ru'}, {'_id': ObjectId('640711c8ea9b50885f65f7f1'), 'name': 'Junior Data scientist (NLP)', 'link': 'https://hh.ru/vacancy/77502259?from=vacancy_search_list&query=python+junior', 'salary_min': 100000, 'salary_max': 150000, 'currency': 'руб.', 'source': 'hh.ru'}, {'_id': ObjectId('640711c8ea9b50885f65f7f2'), 'name': 'ML-специалист (Junior)', 'link': 'https://hh.ru/vacancy/76086723?from=vacancy_search_list&query=python+junior', 'salary_min': 1000, 'salary_max': 2000, 'currency': 'USD', 'source': 'hh.ru'}, {'_id': ObjectId('640711c8ea9b50885f65f7f3'), 'name': 'Junior Python Developer', 'link': 'https://hh.ru/vacancy/77758433?from=vacancy_search_list&query=python+junior', 'salary_min': None, 'salary_max': None, 'currency': None, 'source': 'hh.ru'}, {'_id': ObjectId('640711c8ea9b50885f65f7f4'), 'name': 'Разработчик Python Junior', 'link': 'https://hh.ru/vacancy/74052153?from=vacancy_search_list&query=python+junior', 'salary_min': None, 'salary_max': None, 'currency': None, 'source': 'hh.ru'}, {'_id': ObjectId('640711c8ea9b50885f65f7f5'), 'name': 'ИТ-разработчик (уровень Junior)', 'link': 'https://hh.ru/vacancy/77473846?from=vacancy_search_list&query=python+junior', 'salary_min': 60000, 'salary_max': 80000, 'currency': 'руб.', 'source': 'hh.ru'}, {'_id': ObjectId('640711c8ea9b50885f65f7f6'), 'name': 'Junior Data Scientist (Стажер)', 'link': 'https://hh.ru/vacancy/77691025?from=vacancy_search_list&query=python+junior', 'salary_min': None, 'salary_max': 25400, 'currency': 'руб.', 'source': 'hh.ru'}, {'_id': ObjectId('640711c8ea9b50885f65f7f7'), 'name': 'Программист Python (Junior)', 'link': 'https://hh.ru/vacancy/76771861?from=vacancy_search_list&query=python+junior', 'salary_min': 30000, 'salary_max': None, 'currency': 'руб.', 'source': 'hh.ru'}, {'_id': ObjectId('640711c8ea9b50885f65f7f8'), 'name': 'Junior Python Backend Developer - разработчик Python', 'link': 'https://hh.ru/vacancy/76811711?from=vacancy_search_list&query=python+junior', 'salary_min': 80000, 'salary_max': 120000, 'currency': 'руб.', 'source': 'hh.ru'}, {'_id': ObjectId('640711c8ea9b50885f65f7f9'), 'name': 'Junior Data Engineer', 'link': 'https://hh.ru/vacancy/77734953?from=vacancy_search_list&query=python+junior', 'salary_min': None, 'salary_max': None, 'currency': None, 'source': 'hh.ru'}, {'_id': ObjectId('640711c8ea9b50885f65f7fa'), 'name': 'Программист С#, phyton (Junior)', 'link': 'https://hh.ru/vacancy/77508486?from=vacancy_search_list&query=python+junior', 'salary_min': 60000, 'salary_max': 100000, 'currency': 'руб.', 'source': 'hh.ru'}, {'_id': ObjectId('640711c8ea9b50885f65f7fb'), 'name': 'Computer Vision Engineer (junior/intern)', 'link': 'https://hh.ru/vacancy/77366563?from=vacancy_search_list&query=python+junior', 'salary_min': None, 'salary_max': None, 'currency': None, 'source': 'hh.ru'}, {'_id': ObjectId('640711c8ea9b50885f65f7fc'), 'name': 'Стажер-разработчик Python в Томске', 'link': 'https://hh.ru/vacancy/77602707?from=vacancy_search_list&query=python+junior', 'salary_min': None, 'salary_max': None, 'currency': None, 'source': 'hh.ru'}, {'_id': ObjectId('640711c8ea9b50885f65f7fd'), 'name': 'Junior machine learning engineer', 'link': 'https://hh.ru/vacancy/77733462?from=vacancy_search_list&query=python+junior', 'salary_min': None, 'salary_max': None, 'currency': None, 'source': 'hh.ru'}, {'_id': ObjectId('640711c8ea9b50885f65f7fe'), 'name': 'Data Scientist Junior/Junior+', 'link': 'https://hh.ru/vacancy/77536865?from=vacancy_search_list&query=python+junior', 'salary_min': None, 'salary_max': None, 'currency': None, 'source': 'hh.ru'}, {'_id': ObjectId('640711c8ea9b50885f65f7ff'), 'name': 'Программист Python/Data Scientist (junior / middle)', 'link': 'https://hh.ru/vacancy/77410073?from=vacancy_search_list&query=python+junior', 'salary_min': 70000, 'salary_max': 120000, 'currency': 'руб.', 'source': 'hh.ru'}, {'_id': ObjectId('640711c8ea9b50885f65f800'), 'name': 'Junior/Middle Python Developer (Backend) - разработчик Питон', 'link': 'https://hh.ru/vacancy/77409725?from=vacancy_search_list&query=python+junior', 'salary_min': 70000, 'salary_max': 120000, 'currency': 'руб.', 'source': 'hh.ru'}, {'_id': ObjectId('640711c8ea9b50885f65f801'), 'name': 'Младший разработчик ПО', 'link': 'https://hh.ru/vacancy/77463081?from=vacancy_search_list&query=python+junior', 'salary_min': 40000, 'salary_max': None, 'currency': 'руб.', 'source': 'hh.ru'}, {'_id': ObjectId('640711c8ea9b50885f65f802'), 'name': 'Junior/Middle Backend-разработчик на Ruby', 'link': 'https://hh.ru/vacancy/76964796?from=vacancy_search_list&query=python+junior', 'salary_min': 110000, 'salary_max': 150000, 'currency': 'руб.', 'source': 'hh.ru'}]\n"
     ]
    }
   ],
   "source": [
    "vacancy = input(\"Введите название вакансии: \")\n",
    "vacancy_data = load_hh(vacancy)\n",
    "dbupdate(vacancy_data)\n",
    "\n",
    "print(list(client.testdb.vacancy.find()))\n",
    "\n"
   ],
   "metadata": {
    "collapsed": false
   }
  },
  {
   "cell_type": "code",
   "execution_count": null,
   "outputs": [],
   "source": [],
   "metadata": {
    "collapsed": false
   }
  }
 ],
 "metadata": {
  "kernelspec": {
   "display_name": "Python 3",
   "language": "python",
   "name": "python3"
  },
  "language_info": {
   "codemirror_mode": {
    "name": "ipython",
    "version": 2
   },
   "file_extension": ".py",
   "mimetype": "text/x-python",
   "name": "python",
   "nbconvert_exporter": "python",
   "pygments_lexer": "ipython2",
   "version": "2.7.6"
  }
 },
 "nbformat": 4,
 "nbformat_minor": 0
}
